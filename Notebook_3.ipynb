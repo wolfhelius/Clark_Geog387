{
 "cells": [
  {
   "cell_type": "markdown",
   "metadata": {},
   "source": [
    "# Read from the Arable API\n",
    "\n",
    "https://developer.arable.com"
   ]
  },
  {
   "cell_type": "code",
   "execution_count": 1,
   "metadata": {},
   "outputs": [],
   "source": [
    "%load_ext autoreload\n",
    "%autoreload 2\n",
    "\n",
    "import numpy as np\n",
    "import pandas as pd\n",
    "import geopandas as gpd\n",
    "from datetime import date, datetime, timedelta\n",
    "import requests\n",
    "import os\n",
    "\n",
    "%matplotlib inline\n",
    "import matplotlib\n",
    "import matplotlib.pyplot as plt\n",
    "font = {'size'   : 12}\n",
    "matplotlib.rc('font', **font)\n",
    "\n",
    "pd.plotting.register_matplotlib_converters()"
   ]
  },
  {
   "cell_type": "code",
   "execution_count": 4,
   "metadata": {},
   "outputs": [],
   "source": [
    "from lib.client_v2 import ArableClient\n",
    "\n",
    "import yaml\n",
    "with open('config.yml') as config_data:\n",
    "    c = yaml.load(config_data, Loader=yaml.SafeLoader)\n",
    "\n",
    "from lib.parcel_utilities import *\n",
    "email = c['arable']['email']\n",
    "password = c['arable']['password']"
   ]
  },
  {
   "cell_type": "code",
   "execution_count": 31,
   "metadata": {},
   "outputs": [
    {
     "name": "stdout",
     "output_type": "stream",
     "text": [
      "logged in\n"
     ]
    }
   ],
   "source": [
    "a = ArableClient()\n",
    "a.connect(email=email, password=password)"
   ]
  },
  {
   "cell_type": "code",
   "execution_count": 32,
   "metadata": {},
   "outputs": [
    {
     "data": {
      "text/plain": [
       "['clark']"
      ]
     },
     "execution_count": 32,
     "metadata": {},
     "output_type": "execute_result"
    }
   ],
   "source": [
    "# Your Tenants\n",
    "a.tenants"
   ]
  },
  {
   "cell_type": "code",
   "execution_count": 35,
   "metadata": {},
   "outputs": [],
   "source": [
    "# Forming a request\n",
    "baseurl = a._base_url\n",
    "devices_endpoint = '/devices'\n",
    "locations_endpoint = '/locations'\n",
    "\n",
    "headers = {\n",
    "    'Authorization': 'Bearer {}'.format(a.token)\n",
    "}\n",
    "\n",
    "params = {\n",
    "    'limit': 24\n",
    "}"
   ]
  },
  {
   "cell_type": "code",
   "execution_count": 38,
   "metadata": {},
   "outputs": [],
   "source": [
    "# Executing a request\n",
    "r = requests.get(baseurl+devices_endpoint, params=params, headers=headers)\n",
    "\n",
    "if r.status_code == 200:\n",
    "    devices = r.json()"
   ]
  },
  {
   "cell_type": "markdown",
   "metadata": {},
   "source": [
    "# Exercises\n",
    "\n",
    "1. Gather an array of device id's (e.g. a name like A001472).\n",
    "\n",
    "2. Select one device and collect all the data from the `daily` table for this device\n",
    "\n",
    "    https://api-user.arable.cloud/api/v2/doc#operation/get_data"
   ]
  },
  {
   "cell_type": "code",
   "execution_count": null,
   "metadata": {},
   "outputs": [],
   "source": []
  }
 ],
 "metadata": {
  "kernelspec": {
   "display_name": "Python 3",
   "language": "python",
   "name": "python3"
  },
  "language_info": {
   "codemirror_mode": {
    "name": "ipython",
    "version": 3
   },
   "file_extension": ".py",
   "mimetype": "text/x-python",
   "name": "python",
   "nbconvert_exporter": "python",
   "pygments_lexer": "ipython3",
   "version": "3.7.6"
  }
 },
 "nbformat": 4,
 "nbformat_minor": 4
}
